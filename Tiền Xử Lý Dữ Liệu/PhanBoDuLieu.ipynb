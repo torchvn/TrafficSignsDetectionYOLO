{
 "cells": [
  {
   "cell_type": "markdown",
   "metadata": {},
   "source": [
    "Xem sự phân bố dữ liệu trên bộ GTSDB"
   ]
  },
  {
   "cell_type": "code",
   "execution_count": 1,
   "metadata": {},
   "outputs": [
    {
     "name": "stdout",
     "output_type": "stream",
     "text": [
      "Train has image files with traffic signs numbers: 506\n",
      "Train has traffic signs class numbers: 43\n",
      "Train has traffic signs instance numbers: 852\n",
      "10    63\n",
      "2     59\n",
      "38    57\n",
      "12    54\n",
      "13    52\n",
      "1     48\n",
      "8     47\n",
      "7     37\n",
      "5     37\n",
      "9     32\n",
      "4     31\n",
      "18    27\n",
      "11    26\n",
      "17    25\n",
      "14    22\n",
      "3     21\n",
      "25    21\n",
      "6     17\n",
      "35    15\n",
      "30    14\n",
      "33    13\n",
      "23    13\n",
      "26    11\n",
      "15    10\n",
      "20     9\n",
      "22     9\n",
      "28     9\n",
      "34     9\n",
      "36     8\n",
      "16     7\n",
      "40     7\n",
      "42     7\n",
      "41     6\n",
      "21     5\n",
      "29     4\n",
      "39     4\n",
      "0      4\n",
      "27     3\n",
      "32     3\n",
      "19     2\n",
      "24     2\n",
      "31     1\n",
      "37     1\n",
      "Name: id, dtype: int64\n"
     ]
    },
    {
     "data": {
      "text/plain": [
       "<AxesSubplot:>"
      ]
     },
     "execution_count": 1,
     "metadata": {},
     "output_type": "execute_result"
    },
    {
     "data": {
      "image/png": "[encoded data removed]",
      "text/plain": [
       "<Figure size 432x288 with 1 Axes>"
      ]
     },
     "metadata": {
      "needs_background": "light"
     },
     "output_type": "display_data"
    }
   ],
   "source": [
    "import matplotlib.pyplot as plt\n",
    "import pandas as pd\n",
    "import numpy as np\n",
    "\n",
    "%matplotlib inline\n",
    "\n",
    "import os\n",
    "os.getcwd()\n",
    "\n",
    "data = pd.read_csv('gt.txt', sep=\";\", header=None)\n",
    "data.columns = [\"img\", \"x1\", \"y1\", \"x2\", \"y2\", \"id\"]\n",
    "#data=data[:3]\n",
    "\n",
    "print(\"Train has image files with traffic signs numbers:\", len(data['img'].unique()))\n",
    "print(\"Train has traffic signs class numbers:\", len(data['id'].unique()))\n",
    "print(\"Train has traffic signs instance numbers:\", data['id'].count())\n",
    "pd.value_counts(data['id'], sort=False).plot.bar()\n",
    "print(pd.value_counts(data['id'], sort=True))\n",
    "data['id'].hist(bins=86)"
   ]
  }
 ],
 "metadata": {
  "interpreter": {
   "hash": "5086936f099b7df1dd81ba0b627c3214c90fa2c8da4eaf107fc52873e25b9a89"
  },
  "kernelspec": {
   "display_name": "Python 3.6.8 64-bit ('venv': venv)",
   "language": "python",
   "name": "python3"
  },
  "language_info": {
   "codemirror_mode": {
    "name": "ipython",
    "version": 3
   },
   "file_extension": ".py",
   "mimetype": "text/x-python",
   "name": "python",
   "nbconvert_exporter": "python",
   "pygments_lexer": "ipython3",
   "version": "3.6.8"
  },
  "orig_nbformat": 4
 },
 "nbformat": 4,
 "nbformat_minor": 2
}
